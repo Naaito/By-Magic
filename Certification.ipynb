{
 "cells": [
  {
   "cell_type": "markdown",
   "metadata": {},
   "source": [
    "Importation des bibliothèques\n",
    "Pandas pour gérer l'importation\n",
    "Spacy pour faire le nettoyage\n",
    "en_core_web_sm pour gérer la bibliothèque de mot en anglais\n",
    "Wordcloud pour créer un nuage de mot\n",
    "Matplot pour créer des graphiques\n",
    "CountVectorizer a la même fonction que Spacy, je la garde au cas où avec une fonction particulière pour vectoriser a nouveau\n",
    "Time pour gérer le temps\n",
    "TextBlob pour voir la polarité (.sentiment.polarity)\n",
    "from langdetect import detect_langs pour détecter la langue\n",
    "\n",
    "En cas de besoin\n",
    "#pip install spacy\n",
    "#python -m spacy download en_core_web_sm\n",
    "nltk.download('wordnet')\n",
    "\n",
    "aws['langue'] = aws.review.apply(detect_langs) => ne fonctionne pas, il dit qu'il ne \n"
   ]
  },
  {
   "cell_type": "code",
   "execution_count": 1,
   "metadata": {},
   "outputs": [],
   "source": [
    "import pandas as pd\n",
    "import re\n",
    "import spacy\n",
    "import en_core_web_sm\n",
    "from wordcloud import WordCloud\n",
    "import matplotlib.pyplot as plt\n",
    "from sklearn.feature_extraction.text import CountVectorizer\n",
    "from time import time\n",
    "import numpy as np\n",
    "from textblob import TextBlob\n",
    "\n",
    "#Test lang detect a échoué\n",
    "#from langdetect import detect_langs\n",
    "#import langdetect\n",
    "\n",
    "#test nltk a échoué\n",
    "#import nltk\n",
    "#nltk.download('wordnet')\n",
    "#nltk.download('punkt')\n",
    "#nltk.download('wordnet')\n",
    "#from nltk.stem import PorterStemmer, WordNetLemmatizer\n",
    "#from nltk import word_tokenize\n",
    "#from nltk.corpus import stopwords\n",
    "#import re\n"
   ]
  },
  {
   "cell_type": "raw",
   "metadata": {},
   "source": [
    "Importation du fichier csv"
   ]
  },
  {
   "cell_type": "code",
   "execution_count": 2,
   "metadata": {},
   "outputs": [],
   "source": [
    "aws = pd.read_csv(\"pr_10k.csv\",sep=\";\",header=0)"
   ]
  },
  {
   "cell_type": "raw",
   "metadata": {},
   "source": [
    "On peut faire une pré-exploration des 9999 lignes.\n",
    "On sait par exemple qu'il y a 23 lignes vides dans la colonne review qu'on peut nettoyer. "
   ]
  },
  {
   "cell_type": "code",
   "execution_count": 3,
   "metadata": {},
   "outputs": [
    {
     "name": "stdout",
     "output_type": "stream",
     "text": [
      "                                                name  \\\n",
      "0                Annas Dream Full Quilt with 2 Shams   \n",
      "1  Stop Pacifier Sucking without tears with Thumb...   \n",
      "2  Stop Pacifier Sucking without tears with Thumb...   \n",
      "3  Stop Pacifier Sucking without tears with Thumb...   \n",
      "4            A Tale of Baby's Days with Peter Rabbit   \n",
      "5  Baby Tracker&reg, - Daily Childcare Journal, S...   \n",
      "6  Baby Tracker&reg, - Daily Childcare Journal, S...   \n",
      "7  Baby Tracker&reg, - Daily Childcare Journal, S...   \n",
      "8  Baby Tracker&reg, - Daily Childcare Journal, S...   \n",
      "9  Baby Tracker&reg, - Daily Childcare Journal, S...   \n",
      "\n",
      "                                              review sentiment  \n",
      "0  Very soft and comfortable and warmer than it l...  positive  \n",
      "1  This is a product well worth the purchase.  I ...  positive  \n",
      "2  All of my kids have cried non-stop when I trie...  positive  \n",
      "3  When the Binky Fairy came to our house, we did...  positive  \n",
      "4  Lovely book, it's bound tightly so you may not...  positive  \n",
      "5  Perfect for new parents. We were able to keep ...  positive  \n",
      "6  A friend of mine pinned this product on Pinter...  positive  \n",
      "7  This has been an easy way for my nanny to reco...  positive  \n",
      "8  I love this journal and our nanny uses it ever...  positive  \n",
      "9  This book is perfect!  I'm a first time new mo...  positive  \n",
      " \n",
      "Type présent dans le dataframe\n",
      "name         object\n",
      "review       object\n",
      "sentiment    object\n",
      "dtype: object\n",
      "Infos générales du dataframe\n",
      "<class 'pandas.core.frame.DataFrame'>\n",
      "RangeIndex: 9999 entries, 0 to 9998\n",
      "Data columns (total 3 columns):\n",
      "name         9996 non-null object\n",
      "review       9976 non-null object\n",
      "sentiment    9999 non-null object\n",
      "dtypes: object(3)\n",
      "memory usage: 234.4+ KB\n",
      "None\n",
      " \n",
      "Mesure des commentaires\n",
      "Taille maximum d'un commentaire : 6713.0\n",
      "Taille minimum d'un commentaire : 4.0\n",
      " \n"
     ]
    }
   ],
   "source": [
    "print(aws.head(10))\n",
    "print(\" \")\n",
    "print(\"Type présent dans le dataframe\")\n",
    "print(aws.dtypes)\n",
    "print(\"Infos générales du dataframe\")\n",
    "print(aws.info())\n",
    "print(\" \")\n",
    "\n",
    "length_reviews = aws.review.str.len()\n",
    "\n",
    "print(\"Mesure des commentaires\")\n",
    "print(\"Taille maximum d'un commentaire : \"  + str(max(length_reviews)))\n",
    "print(\"Taille minimum d'un commentaire : \" + str(min(length_reviews)))\n",
    "print(\" \")"
   ]
  },
  {
   "cell_type": "code",
   "execution_count": 4,
   "metadata": {},
   "outputs": [
    {
     "name": "stdout",
     "output_type": "stream",
     "text": [
      "           name  review\n",
      "sentiment              \n",
      "negative   2111    2107\n",
      "positive   7885    7869\n"
     ]
    }
   ],
   "source": [
    "print(aws.groupby(['sentiment']).count())"
   ]
  },
  {
   "cell_type": "raw",
   "metadata": {},
   "source": [
    "On voit qu'il y a une disparité entre les sentiments négatifs et les positifs. Il faudra y remédier avant l'intégration dans le training set.\n",
    "\n",
    "Il faut soit :\n",
    "- Générer de la données \n",
    "- Limiter le nombre de commentaires positifs\n",
    "\n",
    "En attendant :\n",
    "- On supprime les lignes vides \n",
    "- On se débarasse également de la colonne name contenant les produits (et qui ne va pas servir)"
   ]
  },
  {
   "cell_type": "code",
   "execution_count": 5,
   "metadata": {},
   "outputs": [],
   "source": [
    "aws = aws.drop(['name'],axis=1)\n",
    "aws =aws.dropna()"
   ]
  },
  {
   "cell_type": "raw",
   "metadata": {},
   "source": [
    "Nettoyage"
   ]
  },
  {
   "cell_type": "raw",
   "metadata": {},
   "source": [
    "On passe la colonne Review en minuscule et on stock les nouveaux commentaires dans une nouvelle colonne : Commentaire nettoyé"
   ]
  },
  {
   "cell_type": "code",
   "execution_count": 6,
   "metadata": {},
   "outputs": [],
   "source": [
    "aws['Token'] = aws['review'].str.lower()"
   ]
  },
  {
   "cell_type": "raw",
   "metadata": {},
   "source": [
    "On génère la vectorisation des commentaires et la tokenisation\n",
    "En moyenne cela prend entre 177 et 196 secondes"
   ]
  },
  {
   "cell_type": "code",
   "execution_count": 7,
   "metadata": {},
   "outputs": [
    {
     "name": "stdout",
     "output_type": "stream",
     "text": [
      "NLP : 190.72276401519775\n"
     ]
    }
   ],
   "source": [
    "nlp = en_core_web_sm.load()\n",
    "t=time()\n",
    "aws['Token'] = aws['Token'].apply(nlp)\n",
    "t1=time()\n",
    "print(\"NLP : \" + str(t1-t))"
   ]
  },
  {
   "cell_type": "code",
   "execution_count": 30,
   "metadata": {},
   "outputs": [
    {
     "name": "stdout",
     "output_type": "stream",
     "text": [
      "my son likes brushing elmo's teeth. almost too nice of a book to let the kids play with haha :)\n",
      " \n",
      "my 10 month old grandson thought the movement of this toy was funny! he laughs when it moves! saying this, he does put it in his mouth but pulls it out to laugh so, i love this teether because it makes him so happy not because it massages his teeth!\n",
      " \n",
      "my four month old started teething around two months, he has pretty impressive motor skills when it comes to using his hands but this teether is huge and you really have to apply quite a bit of pressure for it to vibrate. my other son who is two and also teething shows absolutely no intrest in this at all. maybe in a couple more months....\n",
      " \n",
      "i highly recommend this item.  it is a must!  i registered for the diaper genie and used it for about a week and couldn't stand it.  it broke,the refills are expensive and very hard to install.  then i got the diaper champ.  what a difference.  easy to use, just one hand, and no odors.  it uses just your basic tall garbage bags.  so you don't have to go out and buy special bags for it.\n",
      " \n",
      "i paid $39.99 for this on amazon and could have bought it in the store for $29.99.  way too overpriced!  i wish i had researched a little more.\n",
      " \n",
      "&#1047,&#1072,&#1084,&#1077,&#1095,&#1072,&#1090,&#1077,&#1083,&#1100,&#1085,&#1072,&#1103, &#1080,&#1075,&#1088,&#1091,&#1096,&#1082,&#1072,. &#1052,&#1086,&#1080, &#1076,&#1077,&#1090,&#1080, &#1086,&#1095,&#1077,&#1085,&#1100, &#1076,&#1086,&#1074,&#1086,&#1083,&#1100,&#1085,&#1099,. &#1044,&#1072,&#1078,&#1077, &#1089,&#1099,&#1085,, &#1082,&#1086,&#1090,&#1086,&#1088,&#1086,&#1084,&#1091, 9 &#1083,&#1077,&#1090, &#1089, &#1088,&#1072,&#1076,&#1086,&#1089,&#1090,&#1100,&#1102, &#1080,&#1075,&#1088,&#1072,&#1077,&#1090, &#1080,&#1084,. &#1053,&#1077,&#1084,&#1085,&#1086,&#1075,&#1086, &#1085,&#1077, &#1085,&#1088,&#1072,&#1074,&#1080,&#1090,&#1089,&#1103, &#34,&#1101,&#1083,&#1077,&#1082,&#1090,&#1088,&#1086,&#1085,&#1085,&#1099,&#1081,&#34, &#1085,&#1077, &#1085,&#1072,&#1089,&#1090,&#1086,&#1103,&#1097,&#1080,&#1081, &#1079,&#1074,&#1091,&#1082,, &#1085,&#1086, &#1076,&#1077,&#1090,&#1103,&#1084, &#1101,&#1090,&#1086, &#1085,&#1077, &#1074,&#1072,&#1078,&#1085,&#1086,.\n",
      " \n"
     ]
    }
   ],
   "source": [
    "#test\n",
    "#Gérer l'émoticone\n",
    "print(aws.iloc[32,2])\n",
    "print(' ')\n",
    "#Rien de spécial\n",
    "print(aws.iloc[217,2])\n",
    "print(' ')\n",
    "#Commentaire négatif mais cela ne ressort pas clairement a part peut être maybe\n",
    "print(aws.iloc[218,2])\n",
    "print(' ')\n",
    "#Commentaire intéressant car il mèle négatif et positif alors que le tag est positif\n",
    "print(aws.iloc[424,2])\n",
    "print(' ')\n",
    "#Overprice est interessant dans ce commentaire négatif mais également les chiffres et les symboles\n",
    "print(aws.iloc[547,2])\n",
    "print(' ')\n",
    "#Que des chiffres\n",
    "print(aws.iloc[1288,2])\n",
    "print(' ')"
   ]
  },
  {
   "cell_type": "raw",
   "metadata": {},
   "source": [
    "#Spacy\n",
    "Generer une liste de Token + lemmatize(>1 sec)\n",
    "Generer une liste de Token + Lemmatize + POS (>1 sec ??)\n",
    "Generer une liste de Token + Lemmatize + POS + stopword (>1 sec)\n",
    "#Rajouter NOUN dans la liste keep"
   ]
  },
  {
   "cell_type": "code",
   "execution_count": 10,
   "metadata": {},
   "outputs": [
    {
     "name": "stdout",
     "output_type": "stream",
     "text": [
      "Token :1.2949252128601074\n"
     ]
    }
   ],
   "source": [
    "keep=['VERB','ADJ', 'ADV']\n",
    "stopwords = spacy.lang.en.stop_words.STOP_WORDS\n",
    "t=time()\n",
    "#aws['Lemma'] = aws['clean review'].apply(lambda x:[token.lemma_ for token in x])\n",
    "#aws['Pos'] = aws['clean review'].apply(lambda x:[token.pos_ for token in x])\n",
    "\n",
    "aws['clean review'] = aws['Token'].apply(lambda x:[token.lemma_ for token in x if token.text.isalpha() and token.pos_ in keep and token not in stopwords])\n",
    "t1=time()\n",
    "print(\"Token :\" +str(t1-t))"
   ]
  },
  {
   "cell_type": "code",
   "execution_count": 22,
   "metadata": {},
   "outputs": [
    {
     "name": "stdout",
     "output_type": "stream",
     "text": [
      "                                              review sentiment  \\\n",
      "0  Very soft and comfortable and warmer than it l...  positive   \n",
      "1  This is a product well worth the purchase.  I ...  positive   \n",
      "2  All of my kids have cried non-stop when I trie...  positive   \n",
      "3  When the Binky Fairy came to our house, we did...  positive   \n",
      "4  Lovely book, it's bound tightly so you may not...  positive   \n",
      "\n",
      "                                               Token  \\\n",
      "0  (very, soft, and, comfortable, and, warmer, th...   \n",
      "1  (this, is, a, product, well, worth, the, purch...   \n",
      "2  (all, of, my, kids, have, cried, non, -, stop,...   \n",
      "3  (when, the, binky, fairy, came, to, our, house...   \n",
      "4  (lovely, book, ,, it, 's, bound, tightly, so, ...   \n",
      "\n",
      "                                        clean review  len  empty  \n",
      "0  [very, soft, comfortable, warm, look, fit, ful...   14  False  \n",
      "1  [product, well, worth, purchase, find, else, p...   31  False  \n",
      "2  [kid, cry, non, stop, when, try, ween, pacifie...   32  False  \n",
      "3  [when, fairy, come, house, special, gift, book...   46  False  \n",
      "4  [lovely, bind, tightly, able, add, alot, photo...   17  False  \n",
      " \n",
      "my son likes brushing elmo's teeth. almost too nice of a book to let the kids play with haha :)\n",
      "positive\n",
      " \n",
      "my 10 month old grandson thought the movement of this toy was funny! he laughs when it moves! saying this, he does put it in his mouth but pulls it out to laugh so, i love this teether because it makes him so happy not because it massages his teeth!\n",
      "positive\n",
      " \n",
      "my four month old started teething around two months, he has pretty impressive motor skills when it comes to using his hands but this teether is huge and you really have to apply quite a bit of pressure for it to vibrate. my other son who is two and also teething shows absolutely no intrest in this at all. maybe in a couple more months....\n",
      "negative\n",
      " \n",
      "i highly recommend this item.  it is a must!  i registered for the diaper genie and used it for about a week and couldn't stand it.  it broke,the refills are expensive and very hard to install.  then i got the diaper champ.  what a difference.  easy to use, just one hand, and no odors.  it uses just your basic tall garbage bags.  so you don't have to go out and buy special bags for it.\n",
      "positive\n",
      " \n",
      "i paid $39.99 for this on amazon and could have bought it in the store for $29.99.  way too overpriced!  i wish i had researched a little more.\n",
      "negative\n",
      " \n",
      "&#1047,&#1072,&#1084,&#1077,&#1095,&#1072,&#1090,&#1077,&#1083,&#1100,&#1085,&#1072,&#1103, &#1080,&#1075,&#1088,&#1091,&#1096,&#1082,&#1072,. &#1052,&#1086,&#1080, &#1076,&#1077,&#1090,&#1080, &#1086,&#1095,&#1077,&#1085,&#1100, &#1076,&#1086,&#1074,&#1086,&#1083,&#1100,&#1085,&#1099,. &#1044,&#1072,&#1078,&#1077, &#1089,&#1099,&#1085,, &#1082,&#1086,&#1090,&#1086,&#1088,&#1086,&#1084,&#1091, 9 &#1083,&#1077,&#1090, &#1089, &#1088,&#1072,&#1076,&#1086,&#1089,&#1090,&#1100,&#1102, &#1080,&#1075,&#1088,&#1072,&#1077,&#1090, &#1080,&#1084,. &#1053,&#1077,&#1084,&#1085,&#1086,&#1075,&#1086, &#1085,&#1077, &#1085,&#1088,&#1072,&#1074,&#1080,&#1090,&#1089,&#1103, &#34,&#1101,&#1083,&#1077,&#1082,&#1090,&#1088,&#1086,&#1085,&#1085,&#1099,&#1081,&#34, &#1085,&#1077, &#1085,&#1072,&#1089,&#1090,&#1086,&#1103,&#1097,&#1080,&#1081, &#1079,&#1074,&#1091,&#1082,, &#1085,&#1086, &#1076,&#1077,&#1090,&#1103,&#1084, &#1101,&#1090,&#1086, &#1085,&#1077, &#1074,&#1072,&#1078,&#1085,&#1086,.\n",
      "positive\n",
      " \n",
      "<class 'pandas.core.frame.DataFrame'>\n",
      "Int64Index: 9976 entries, 0 to 9998\n",
      "Data columns (total 6 columns):\n",
      "review          9976 non-null object\n",
      "sentiment       9976 non-null object\n",
      "Token           9976 non-null object\n",
      "clean review    9976 non-null object\n",
      "len             9976 non-null int64\n",
      "empty           9976 non-null bool\n",
      "dtypes: bool(1), int64(1), object(4)\n",
      "memory usage: 797.4+ KB\n",
      "None\n",
      " \n",
      "better than a big multi pack, but you always need more than one so you can use, rewash, and always be ready. our local big box stores have been unexpectedly not keeping all styles and sizes in stock, so thank you philips and amazon!\n"
     ]
    }
   ],
   "source": [
    "#test\n",
    "print(aws.head())\n",
    "print(' ')\n",
    "#Gérer l'émoticone\n",
    "print(aws.iloc[32,2])\n",
    "print(aws.iloc[32,1])\n",
    "print(' ')\n",
    "#Rien de spécial\n",
    "print(aws.iloc[217,2])\n",
    "print(aws.iloc[217,1])\n",
    "print(' ')\n",
    "#Commentaire négatif mais cela ne ressort pas clairement a part peut être maybe\n",
    "print(aws.iloc[218,2])\n",
    "print(aws.iloc[218,1])\n",
    "print(' ')\n",
    "#Commentaire intéressant car il mèle négatif et positif alors que le tag est positif\n",
    "print(aws.iloc[424,2])\n",
    "print(aws.iloc[424,1])\n",
    "print(' ')\n",
    "#Overprice est interessant dans ce commentaire négatif mais également les chiffres et les symboles\n",
    "print(aws.iloc[547,2])\n",
    "print(aws.iloc[547,1])\n",
    "print(' ')\n",
    "#Que des chiffres\n",
    "print(aws.iloc[1288,2])\n",
    "print(aws.iloc[1288,1])\n",
    "print(' ')\n",
    "print(aws.info())\n",
    "print(' ')\n",
    "\n",
    "#Pb avec ligne 3670 et 3963 en espagnol, 1294 en caractère, 6093 #nom?\n"
   ]
  },
  {
   "cell_type": "raw",
   "metadata": {},
   "source": [
    "Vérification d'après nettoyage\n",
    "#Pb avec ligne 3670 et 3963 en espagnol, 1294 en caractère, 6093 #nom?\n",
    "#Sont traité lorsque je met NOUN dans le keep"
   ]
  },
  {
   "cell_type": "code",
   "execution_count": 11,
   "metadata": {},
   "outputs": [
    {
     "name": "stdout",
     "output_type": "stream",
     "text": [
      "review          &#1047,&#1072,&#1084,&#1077,&#1095,&#1072,&#10...\n",
      "sentiment                                                positive\n",
      "Token           (&, #, 1047,&#1072,&#1084,&#1077,&#1095,&#1072...\n",
      "clean review                                                   []\n",
      "len                                                             0\n",
      "empty                                                        True\n",
      "Name: 1294, dtype: object\n",
      " \n",
      "       review  sentiment  Token  clean review   len\n",
      "empty                                              \n",
      "False    9969       9969   9969          9969  9969\n",
      "True        7          7      7             7     7\n",
      " \n",
      "                                                 review sentiment  \\\n",
      "246                            A favorite in our house!  positive   \n",
      "1294  &#1047,&#1072,&#1084,&#1077,&#1095,&#1072,&#10...  positive   \n",
      "1492                                    Big pak N play.  positive   \n",
      "3670  Los productos avent son los mejores para darle...  positive   \n",
      "3963  Muy comodas y practicas evitan el goteo de la ...  positive   \n",
      "3964                                          EXCELLENT  positive   \n",
      "6093                                              #NOM?  positive   \n",
      "\n",
      "                                                  Token clean review  len  \\\n",
      "246                    (a, favorite, in, our, house, !)           []    0   \n",
      "1294  (&, #, 1047,&#1072,&#1084,&#1077,&#1095,&#1072...           []    0   \n",
      "1492                             (big, pak, n, play, .)           []    0   \n",
      "3670  (los, productos, avent, son, los, mejores, par...           []    0   \n",
      "3963  (muy, comodas, y, practicas, evitan, el, goteo...           []    0   \n",
      "3964                                        (excellent)           []    0   \n",
      "6093                                        (#, nom, ?)           []    0   \n",
      "\n",
      "      empty  \n",
      "246    True  \n",
      "1294   True  \n",
      "1492   True  \n",
      "3670   True  \n",
      "3963   True  \n",
      "3964   True  \n",
      "6093   True  \n",
      "Mesure des commentaires\n",
      "Taille maximum d'un commentaire : 333\n",
      "Taille minimum d'un commentaire : 0\n",
      " \n"
     ]
    }
   ],
   "source": [
    "aws['len'] = aws['clean review'].apply(lambda x : len(x))\n",
    "aws['empty']= aws['clean review'].apply(lambda x : bool(len(x) == 0))\n",
    "\n",
    "\n",
    "print(aws.iloc[1288])\n",
    "print(' ')\n",
    "print(aws.groupby(['empty']).count())\n",
    "print(' ')\n",
    "print(aws.loc[aws['empty'] == True])\n",
    "\n",
    "length_clean_reviews = aws['clean review'].str.len()\n",
    "\n",
    "print(\"Mesure des commentaires\")\n",
    "print(\"Taille maximum d'un commentaire : \"  + str(max(length_clean_reviews)))\n",
    "print(\"Taille minimum d'un commentaire : \" + str(min(length_clean_reviews)))\n",
    "print(\" \")\n"
   ]
  },
  {
   "cell_type": "code",
   "execution_count": 38,
   "metadata": {},
   "outputs": [
    {
     "name": "stdout",
     "output_type": "stream",
     "text": [
      "       review  sentiment  Token  clean review   len  polarity\n",
      "empty                                                        \n",
      "False    9969       9969   9969          9969  9969      9969\n",
      " \n",
      "Empty DataFrame\n",
      "Columns: [review, sentiment, Token, clean review, len, empty, polarity]\n",
      "Index: []\n"
     ]
    }
   ],
   "source": [
    "#Nettoyage des tokens vides\n",
    "aws =  aws.drop(aws[aws['empty'] == True].index)\n",
    "print(aws.groupby(['empty']).count())\n",
    "print(' ')\n",
    "print(aws.loc[aws['empty'] == True])"
   ]
  },
  {
   "cell_type": "raw",
   "metadata": {},
   "source": [
    "Générer un nuage de mot avant nettoyage"
   ]
  },
  {
   "cell_type": "code",
   "execution_count": 13,
   "metadata": {},
   "outputs": [
    {
     "data": {
      "image/png": "[encoded data removed]",
      "text/plain": [
       "<PIL.Image.Image image mode=RGB size=400x200 at 0x227B9B88E80>"
      ]
     },
     "execution_count": 13,
     "metadata": {},
     "output_type": "execute_result"
    }
   ],
   "source": [
    "#Générer une longue chaine de caractère\n",
    "s = \" \"\n",
    "long_string = s.join(aws['review'])\n",
    "\n",
    "#Générer un nuage de mot\n",
    "wordcloud = WordCloud()\n",
    "wordcloud.generate(long_string)\n",
    "\n",
    "#Visualiser le nuage\n",
    "wordcloud.to_image()\n"
   ]
  },
  {
   "cell_type": "code",
   "execution_count": 12,
   "metadata": {},
   "outputs": [],
   "source": [
    "#Transformer clean review en chaine de caractère\n",
    "def listToString(s):  \n",
    "    \n",
    "    # initialize an empty string \n",
    "    str1 = \"\"  \n",
    "    \n",
    "    # traverse in the string   \n",
    "    for ele in s:  \n",
    "        str1 += ele + \" \"   \n",
    "    \n",
    "    # return string   \n",
    "    return str1 \n",
    "\n",
    "aws['clean review'] = aws['clean review'].apply(lambda x: listToString(x))"
   ]
  },
  {
   "cell_type": "code",
   "execution_count": 19,
   "metadata": {},
   "outputs": [
    {
     "ename": "SyntaxError",
     "evalue": "invalid syntax (<ipython-input-19-948f89371b06>, line 1)",
     "output_type": "error",
     "traceback": [
      "\u001b[1;36m  File \u001b[1;32m\"<ipython-input-19-948f89371b06>\"\u001b[1;36m, line \u001b[1;32m1\u001b[0m\n\u001b[1;33m    Générer un nuage de mot après correction\u001b[0m\n\u001b[1;37m             ^\u001b[0m\n\u001b[1;31mSyntaxError\u001b[0m\u001b[1;31m:\u001b[0m invalid syntax\n"
     ]
    }
   ],
   "source": [
    "Générer un nuage de mot après correction"
   ]
  },
  {
   "cell_type": "code",
   "execution_count": 15,
   "metadata": {},
   "outputs": [
    {
     "data": {
      "image/png": "[encoded data removed]",
      "text/plain": [
       "<PIL.Image.Image image mode=RGB size=400x200 at 0x227B8B9ED68>"
      ]
     },
     "execution_count": 15,
     "metadata": {},
     "output_type": "execute_result"
    }
   ],
   "source": [
    "#Générer une longue chaine de caractère\n",
    "s = \" \"\n",
    "clean_string = s.join(aws['clean review'])\n",
    "\n",
    "#Générer un nuage de mot\n",
    "wordcloud = WordCloud()\n",
    "wordcloud.generate(clean_string)\n",
    "\n",
    "#Visualiser le nuage\n",
    "wordcloud.to_image()\n"
   ]
  },
  {
   "cell_type": "raw",
   "metadata": {},
   "source": [
    "Fonction pour la visualisation des mots les plus communs du corpus"
   ]
  },
  {
   "cell_type": "code",
   "execution_count": 13,
   "metadata": {},
   "outputs": [],
   "source": [
    "#Visualisation des mots les plus communs\n",
    "def plot_most_common_words(count_data, count_vectorizer):\n",
    "    words = count_vectorizer.get_feature_names()\n",
    "    total_counts = np.zeros(len(words))\n",
    "    for t in count_data:\n",
    "        total_counts+=t.toarray()[0]\n",
    "    \n",
    "    count_dict = (zip(words, total_counts))\n",
    "    count_dict = sorted(count_dict, key=lambda x:x[1], reverse=True)[0:30]\n",
    "    words = [w[0] for w in count_dict]\n",
    "    counts = [w[1] for w in count_dict]\n",
    "    x_pos = np.arange(len(words)) \n",
    "\n",
    "    plt.bar(x_pos, counts,align='center')\n",
    "    plt.xticks(x_pos, words, rotation=90) \n",
    "    plt.xlabel('Mots')\n",
    "    plt.ylabel('Fréquence')\n",
    "    plt.title('Les 30 mots les plus communs')\n",
    "    plt.show()\n",
    "\n"
   ]
  },
  {
   "cell_type": "raw",
   "metadata": {},
   "source": [
    "Visualisation des mots les plus communs avant nettoyage\n",
    "A savoir sur countvectorizer: \n",
    "Token_pattern : string\n",
    "Regular expression denoting what constitutes a “token”, only used if analyzer == 'word'. The default regexp select tokens of 2 or more alphanumeric characters (punctuation is completely ignored and always treated as a token separator).\n",
    "\n",
    "ngram_range : tuple (min_n, max_n)\n",
    "The lower and upper boundary of the range of n-values for different n-grams to be extracted. All values of n such that min_n <= n <= max_n will be used.\n",
    "\n",
    "max_df : float in range [0.0, 1.0] or int, default=1.0\n",
    "When building the vocabulary ignore terms that have a document frequency strictly higher than the given threshold (corpus-specific stop words). If float, the parameter represents a proportion of documents, integer absolute counts. This parameter is ignored if vocabulary is not None.\n",
    "\n",
    "min_df : float in range [0.0, 1.0] or int, default=1\n",
    "When building the vocabulary ignore terms that have a document frequency strictly lower than the given threshold. This value is also called cut-off in the literature. If float, the parameter represents a proportion of documents, integer absolute counts. This parameter is ignored if vocabulary is not None.\n"
   ]
  },
  {
   "cell_type": "code",
   "execution_count": 14,
   "metadata": {},
   "outputs": [
    {
     "data": {
      "image/png": "[encoded data removed]",
      "text/plain": [
       "<Figure size 432x288 with 1 Axes>"
      ]
     },
     "metadata": {
      "needs_background": "light"
     },
     "output_type": "display_data"
    }
   ],
   "source": [
    "# Initialise the count vectorizer with the English stop words\n",
    "count_vectorizer = CountVectorizer(stop_words='english')\n",
    "\n",
    "# Fit and transform \n",
    "count_data = count_vectorizer.fit_transform(aws['review'])\n",
    "\n",
    "# Visualise\n",
    "plot_most_common_words(count_data, count_vectorizer)"
   ]
  },
  {
   "cell_type": "code",
   "execution_count": null,
   "metadata": {},
   "outputs": [],
   "source": [
    "Visualisation des mots les plus communs après nettoyage"
   ]
  },
  {
   "cell_type": "code",
   "execution_count": 15,
   "metadata": {},
   "outputs": [
    {
     "data": {
      "image/png": "[encoded data removed]",
      "text/plain": [
       "<Figure size 432x288 with 1 Axes>"
      ]
     },
     "metadata": {
      "needs_background": "light"
     },
     "output_type": "display_data"
    }
   ],
   "source": [
    "# Initialise the count vectorizer with the English stop words\n",
    "count_vectorizer = CountVectorizer(stop_words='english')\n",
    "\n",
    "# Fit and transform \n",
    "count_data = count_vectorizer.fit_transform(aws['clean review'])\n",
    "\n",
    "# Visualise\n",
    "plot_most_common_words(count_data, count_vectorizer)"
   ]
  },
  {
   "cell_type": "raw",
   "metadata": {},
   "source": [
    "Matrice mot/documents après nettoyage\n",
    "\n",
    "Avis => le lemma ne donne pas spécialement satisfaction en tout cas avec spacy ? Essayer NLTK ou passer au STEM"
   ]
  },
  {
   "cell_type": "code",
   "execution_count": 16,
   "metadata": {},
   "outputs": [
    {
     "name": "stdout",
     "output_type": "stream",
     "text": [
      "   abandon  abate  abdominal  abide  abilitie  able  ablt  abnormal  \\\n",
      "0        0      0          0      0         0     0     0         0   \n",
      "1        0      0          0      0         0     0     0         0   \n",
      "2        0      0          0      0         0     0     0         0   \n",
      "3        0      0          0      0         0     0     0         0   \n",
      "4        0      0          0      0         0     1     0         0   \n",
      "\n",
      "   abnormally  aborb  ...  ze  zealous  zip  ziplock  zipper  zippered  zippy  \\\n",
      "0           0      0  ...   0        0    0        0       0         0      0   \n",
      "1           0      0  ...   0        0    0        0       0         0      0   \n",
      "2           0      0  ...   0        0    0        0       0         0      0   \n",
      "3           0      0  ...   0        0    0        0       0         0      0   \n",
      "4           0      0  ...   0        0    0        0       0         0      0   \n",
      "\n",
      "   ziptie  zone  zoom  \n",
      "0       0     0     0  \n",
      "1       0     0     0  \n",
      "2       0     0     0  \n",
      "3       0     0     0  \n",
      "4       0     0     0  \n",
      "\n",
      "[5 rows x 6126 columns]\n",
      "      abandon  abate  abdominal  abide  abilitie  able  ablt  abnormal  \\\n",
      "5441        0      0          0      0         0     0     0         0   \n",
      "5604        0      0          0      0         0     0     0         0   \n",
      "\n",
      "      abnormally  aborb  ...  ze  zealous  zip  ziplock  zipper  zippered  \\\n",
      "5441           0      0  ...   0        0    0        0       0         1   \n",
      "5604           0      0  ...   0        0    0        0       0         1   \n",
      "\n",
      "      zippy  ziptie  zone  zoom  \n",
      "5441      0       0     0     0  \n",
      "5604      0       0     0     0  \n",
      "\n",
      "[2 rows x 6126 columns]\n",
      " \n",
      "i'd like to give 4+ stars to the warmer, 3 stars for the diaper organizer. the wipey warmer is a luxury every baby deserves. i have 2, one upstairs and one down. i place the wipes in a ziploc bag inside the warmer. it minimizes dry-out. it may be a little laborious, but it really seems to help. once they dry a bit, i add some water. the bottom wipe sometimes turns brown, so it's best not to pack too many in at a time so they can get circulated. it also helps to unplug it overnight to minimize drying. these are all minor hinderences, but the organizer is the bigger hassle. i have mine attached to the co-sleeper. though it fits the edge snuggly, it doesn't take much to knock it off. the diapers are contained with a zippered area. i find it to be too much trouble to unzip it every time i need a diaper so i have just left it open, at which point, diapers end up scattered all over the floor. now the diapers sit on my end table for a quick reach. the organizer isn't totally functionless, however, as i use it to store her extra burp rags. all in all, i'm glad i have the product, i have just modified it to suit my needs, and my baby doesn't protest to diaper changes anymore.\n",
      " \n"
     ]
    }
   ],
   "source": [
    "vect = CountVectorizer(stop_words='english')\n",
    "vect.fit(aws['clean review'])\n",
    "test= vect.transform(aws['clean review'])\n",
    "my_array = test.toarray()\n",
    "test_df = pd.DataFrame(my_array, columns=vect.get_feature_names())\n",
    "print(test_df.head())\n",
    "print(test_df.loc[test_df.zippered == 1])\n",
    "print(' ')\n",
    "print(aws.iloc[5441,2])\n",
    "print(' ')"
   ]
  },
  {
   "cell_type": "code",
   "execution_count": null,
   "metadata": {},
   "outputs": [],
   "source": [
    "Taille de l'entrée : \n",
    "Si j'utilise les bigrammes => CountVectorizer(ngram_range  = (1,2), stop_words='english')\n",
    "<class 'pandas.core.frame.DataFrame'>\n",
    "RangeIndex: 9976 entries, 0 to 9975\n",
    "Columns: 102954 entries, abandon to zoom wrong\n",
    "dtypes: int64(102954)\n",
    "memory usage: 7.7 GB\n",
    "    \n",
    "Sans bigramme\n",
    "<class 'pandas.core.frame.DataFrame'>\n",
    "RangeIndex: 9976 entries, 0 to 9975\n",
    "Columns: 6126 entries, abandon to zoom\n",
    "dtypes: int64(6126)\n",
    "memory usage: 466.3 MB\n",
    "    \n",
    "Possibilité d'utiliser le test du chi 2 pour prendre les features les plus intéressante ?\n"
   ]
  },
  {
   "cell_type": "code",
   "execution_count": 17,
   "metadata": {},
   "outputs": [
    {
     "name": "stdout",
     "output_type": "stream",
     "text": [
      "<class 'pandas.core.frame.DataFrame'>\n",
      "RangeIndex: 9976 entries, 0 to 9975\n",
      "Columns: 6126 entries, abandon to zoom\n",
      "dtypes: int64(6126)\n",
      "memory usage: 466.3 MB\n"
     ]
    }
   ],
   "source": [
    "test_df.info()"
   ]
  },
  {
   "cell_type": "code",
   "execution_count": 23,
   "metadata": {},
   "outputs": [],
   "source": [
    "#print(vect.get_feature_names())"
   ]
  },
  {
   "cell_type": "raw",
   "metadata": {},
   "source": [
    "Test de polarité avec TextBlob"
   ]
  },
  {
   "cell_type": "code",
   "execution_count": 18,
   "metadata": {},
   "outputs": [
    {
     "name": "stdout",
     "output_type": "stream",
     "text": [
      "                                              review sentiment  \\\n",
      "0  Very soft and comfortable and warmer than it l...  positive   \n",
      "1  This is a product well worth the purchase.  I ...  positive   \n",
      "2  All of my kids have cried non-stop when I trie...  positive   \n",
      "3  When the Binky Fairy came to our house, we did...  positive   \n",
      "4  Lovely book, it's bound tightly so you may not...  positive   \n",
      "\n",
      "                                               Token  \\\n",
      "0  (very, soft, and, comfortable, and, warmer, th...   \n",
      "1  (this, is, a, product, well, worth, the, purch...   \n",
      "2  (all, of, my, kids, have, cried, non, -, stop,...   \n",
      "3  (when, the, binky, fairy, came, to, our, house...   \n",
      "4  (lovely, book, ,, it, 's, bound, tightly, so, ...   \n",
      "\n",
      "                                        clean review  len  empty  polarity  \n",
      "0  very soft comfortable warm look fit full perfe...   10  False  0.480000  \n",
      "1  well worth find else positive ingenious lose l...   19  False  0.364222  \n",
      "2  cry non stop when try ween find love easy work...   22  False  0.558333  \n",
      "3  when come special help explain how important s...   25  False  0.459592  \n",
      "4  lovely bind tightly able add aside designate p...   11  False  0.400000  \n"
     ]
    }
   ],
   "source": [
    "aws['polarity'] = aws['clean review'].apply(lambda x: TextBlob(x).sentiment.polarity)\n",
    "print(aws.head())"
   ]
  },
  {
   "cell_type": "code",
   "execution_count": 24,
   "metadata": {},
   "outputs": [
    {
     "name": "stdout",
     "output_type": "stream",
     "text": [
      "like almost too nice let play \n",
      "0.6\n",
      " \n",
      "old think funny laugh when move say put pull laugh so love teether make so happy massage \n",
      "0.375\n",
      " \n",
      "old start teethe pretty impressive when come use huge really apply vibrate other also teethe show absolutely intr at all maybe more \n",
      "0.31562500000000004\n",
      " \n",
      "highly recommend register use about could stand break expensive very hard install then get easy use just use just basic tall so go buy special \n",
      "0.011884920634920628\n",
      " \n",
      "pay buy way too overpriced wish research little more \n",
      "0.15625\n",
      " \n"
     ]
    }
   ],
   "source": [
    "#test de polarité / subjectivité\n",
    "#Gérer l'émoticone\n",
    "print(aws.iloc[32,2])\n",
    "print(aws.iloc[32,5])\n",
    "print(' ')\n",
    "#Rien de spécial\n",
    "print(aws.iloc[217,2])\n",
    "print(aws.iloc[217,5])\n",
    "print(' ')\n",
    "#Commentaire négatif mais cela ne ressort pas clairement a part peut être maybe\n",
    "print(aws.iloc[218,2])\n",
    "print(aws.iloc[218,5])\n",
    "print(' ')\n",
    "#Commentaire intéressant car il mèle négatif et positif alors que le tag est positif\n",
    "print(aws.iloc[424,2])\n",
    "print(aws.iloc[424,5])\n",
    "print(' ')\n",
    "#Overprice est interessant dans ce commentaire négatif mais également les chiffres et les symboles\n",
    "print(aws.iloc[547,2])\n",
    "print(aws.iloc[547,5])\n",
    "print(' ')\n",
    "\n"
   ]
  },
  {
   "cell_type": "raw",
   "metadata": {},
   "source": [
    "Faire un graphique des polarités\n",
    "\n",
    "=> Pas génial sur le nettoyage"
   ]
  },
  {
   "cell_type": "code",
   "execution_count": 22,
   "metadata": {},
   "outputs": [
    {
     "data": {
      "text/plain": [
       "(array([   6.,   10.,   36.,  123.,  708., 3736., 3873., 1231.,  189.,\n",
       "          64.]),\n",
       " array([-1. , -0.8, -0.6, -0.4, -0.2,  0. ,  0.2,  0.4,  0.6,  0.8,  1. ]),\n",
       " <a list of 10 Patch objects>)"
      ]
     },
     "execution_count": 22,
     "metadata": {},
     "output_type": "execute_result"
    },
    {
     "data": {
      "image/png": "[encoded data removed]",
      "text/plain": [
       "<Figure size 432x288 with 1 Axes>"
      ]
     },
     "metadata": {
      "needs_background": "light"
     },
     "output_type": "display_data"
    }
   ],
   "source": [
    "plt.hist(aws.polarity)"
   ]
  },
  {
   "cell_type": "code",
   "execution_count": 33,
   "metadata": {},
   "outputs": [
    {
     "name": "stdout",
     "output_type": "stream",
     "text": [
      "Nombre d'entrée négative d'après text blob :\n",
      "883\n",
      "<class 'pandas.core.frame.DataFrame'>\n"
     ]
    }
   ],
   "source": [
    "print(\"Nombre d'entrée négative d'après text blob :\")\n",
    "print(aws.polarity.loc[aws.polarity < 0].count())\n"
   ]
  },
  {
   "cell_type": "code",
   "execution_count": null,
   "metadata": {},
   "outputs": [],
   "source": [
    "Scinder le DF en deux : Positif et négatif"
   ]
  },
  {
   "cell_type": "code",
   "execution_count": 21,
   "metadata": {},
   "outputs": [
    {
     "data": {
      "text/html": [
       "<div>\n",
       "<style scoped>\n",
       "    .dataframe tbody tr th:only-of-type {\n",
       "        vertical-align: middle;\n",
       "    }\n",
       "\n",
       "    .dataframe tbody tr th {\n",
       "        vertical-align: top;\n",
       "    }\n",
       "\n",
       "    .dataframe thead th {\n",
       "        text-align: right;\n",
       "    }\n",
       "</style>\n",
       "<table border=\"1\" class=\"dataframe\">\n",
       "  <thead>\n",
       "    <tr style=\"text-align: right;\">\n",
       "      <th></th>\n",
       "      <th>review</th>\n",
       "      <th>sentiment</th>\n",
       "      <th>Token</th>\n",
       "      <th>clean review</th>\n",
       "      <th>len</th>\n",
       "      <th>empty</th>\n",
       "      <th>polarity</th>\n",
       "    </tr>\n",
       "  </thead>\n",
       "  <tbody>\n",
       "    <tr>\n",
       "      <th>0</th>\n",
       "      <td>Very soft and comfortable and warmer than it l...</td>\n",
       "      <td>positive</td>\n",
       "      <td>(very, soft, and, comfortable, and, warmer, th...</td>\n",
       "      <td>very soft comfortable warm look fit full perfe...</td>\n",
       "      <td>10</td>\n",
       "      <td>False</td>\n",
       "      <td>0.480000</td>\n",
       "    </tr>\n",
       "    <tr>\n",
       "      <th>1</th>\n",
       "      <td>This is a product well worth the purchase.  I ...</td>\n",
       "      <td>positive</td>\n",
       "      <td>(this, is, a, product, well, worth, the, purch...</td>\n",
       "      <td>well worth find else positive ingenious lose l...</td>\n",
       "      <td>19</td>\n",
       "      <td>False</td>\n",
       "      <td>0.364222</td>\n",
       "    </tr>\n",
       "    <tr>\n",
       "      <th>2</th>\n",
       "      <td>All of my kids have cried non-stop when I trie...</td>\n",
       "      <td>positive</td>\n",
       "      <td>(all, of, my, kids, have, cried, non, -, stop,...</td>\n",
       "      <td>cry non stop when try ween find love easy work...</td>\n",
       "      <td>22</td>\n",
       "      <td>False</td>\n",
       "      <td>0.558333</td>\n",
       "    </tr>\n",
       "    <tr>\n",
       "      <th>3</th>\n",
       "      <td>When the Binky Fairy came to our house, we did...</td>\n",
       "      <td>positive</td>\n",
       "      <td>(when, the, binky, fairy, came, to, our, house...</td>\n",
       "      <td>when come special help explain how important s...</td>\n",
       "      <td>25</td>\n",
       "      <td>False</td>\n",
       "      <td>0.459592</td>\n",
       "    </tr>\n",
       "    <tr>\n",
       "      <th>4</th>\n",
       "      <td>Lovely book, it's bound tightly so you may not...</td>\n",
       "      <td>positive</td>\n",
       "      <td>(lovely, book, ,, it, 's, bound, tightly, so, ...</td>\n",
       "      <td>lovely bind tightly able add aside designate p...</td>\n",
       "      <td>11</td>\n",
       "      <td>False</td>\n",
       "      <td>0.400000</td>\n",
       "    </tr>\n",
       "  </tbody>\n",
       "</table>\n",
       "</div>"
      ],
      "text/plain": [
       "                                              review sentiment  \\\n",
       "0  Very soft and comfortable and warmer than it l...  positive   \n",
       "1  This is a product well worth the purchase.  I ...  positive   \n",
       "2  All of my kids have cried non-stop when I trie...  positive   \n",
       "3  When the Binky Fairy came to our house, we did...  positive   \n",
       "4  Lovely book, it's bound tightly so you may not...  positive   \n",
       "\n",
       "                                               Token  \\\n",
       "0  (very, soft, and, comfortable, and, warmer, th...   \n",
       "1  (this, is, a, product, well, worth, the, purch...   \n",
       "2  (all, of, my, kids, have, cried, non, -, stop,...   \n",
       "3  (when, the, binky, fairy, came, to, our, house...   \n",
       "4  (lovely, book, ,, it, 's, bound, tightly, so, ...   \n",
       "\n",
       "                                        clean review  len  empty  polarity  \n",
       "0  very soft comfortable warm look fit full perfe...   10  False  0.480000  \n",
       "1  well worth find else positive ingenious lose l...   19  False  0.364222  \n",
       "2  cry non stop when try ween find love easy work...   22  False  0.558333  \n",
       "3  when come special help explain how important s...   25  False  0.459592  \n",
       "4  lovely bind tightly able add aside designate p...   11  False  0.400000  "
      ]
     },
     "execution_count": 21,
     "metadata": {},
     "output_type": "execute_result"
    }
   ],
   "source": [
    "aws.head()"
   ]
  },
  {
   "cell_type": "code",
   "execution_count": 67,
   "metadata": {},
   "outputs": [],
   "source": [
    "aws.drop(['Token'],axis=1)\n",
    "aws.drop(['len'],axis=1)\n",
    "aws.drop(['empty'],axis=1)\n",
    "\n",
    "DF_neg = aws.loc[aws.sentiment == \"negative\"]\n",
    "DF_pos = aws.loc[aws.sentiment == \"positive\"]\n"
   ]
  },
  {
   "cell_type": "code",
   "execution_count": 68,
   "metadata": {},
   "outputs": [
    {
     "name": "stdout",
     "output_type": "stream",
     "text": [
      "review          2107\n",
      "sentiment       2107\n",
      "Token           2107\n",
      "clean review    2107\n",
      "len             2107\n",
      "empty           2107\n",
      "polarity        2107\n",
      "dtype: int64\n",
      " \n",
      "review          7862\n",
      "sentiment       7862\n",
      "Token           7862\n",
      "clean review    7862\n",
      "len             7862\n",
      "empty           7862\n",
      "polarity        7862\n",
      "dtype: int64\n",
      " \n",
      "<class 'pandas.core.frame.DataFrame'>\n",
      "Int64Index: 2107 entries, 18 to 9991\n",
      "Data columns (total 7 columns):\n",
      "review          2107 non-null object\n",
      "sentiment       2107 non-null object\n",
      "Token           2107 non-null object\n",
      "clean review    2107 non-null object\n",
      "len             2107 non-null int64\n",
      "empty           2107 non-null bool\n",
      "polarity        2107 non-null float64\n",
      "dtypes: bool(1), float64(1), int64(1), object(4)\n",
      "memory usage: 117.3+ KB\n",
      "None\n",
      " \n",
      "<class 'pandas.core.frame.DataFrame'>\n",
      "Int64Index: 7862 entries, 0 to 9998\n",
      "Data columns (total 7 columns):\n",
      "review          7862 non-null object\n",
      "sentiment       7862 non-null object\n",
      "Token           7862 non-null object\n",
      "clean review    7862 non-null object\n",
      "len             7862 non-null int64\n",
      "empty           7862 non-null bool\n",
      "polarity        7862 non-null float64\n",
      "dtypes: bool(1), float64(1), int64(1), object(4)\n",
      "memory usage: 437.6+ KB\n",
      "None\n"
     ]
    }
   ],
   "source": [
    "print(DF_neg.count())\n",
    "print(\" \")\n",
    "print(DF_pos.count())\n",
    "print(\" \")\n",
    "print(DF_neg.info())\n",
    "print(\" \")\n",
    "print(DF_pos.info())"
   ]
  },
  {
   "cell_type": "code",
   "execution_count": null,
   "metadata": {},
   "outputs": [],
   "source": [
    "Vérification des DF avec text blob"
   ]
  },
  {
   "cell_type": "code",
   "execution_count": 69,
   "metadata": {},
   "outputs": [
    {
     "name": "stdout",
     "output_type": "stream",
     "text": [
      "Nombre d'entrée négative dans le df negatif d'après text blob :\n",
      "578\n",
      " \n",
      "Nombre d'entrée négative dans le df negatif d'après text blob :\n",
      "305\n"
     ]
    }
   ],
   "source": [
    "print(\"Nombre d'entrée négative dans le df negatif d'après text blob :\")\n",
    "print(DF_neg.polarity.loc[DF_neg.polarity < 0].count())\n",
    "print(\" \")\n",
    "print(\"Nombre d'entrée négative dans le df negatif d'après text blob :\")\n",
    "print(DF_pos.polarity.loc[DF_pos.polarity < 0].count())"
   ]
  },
  {
   "cell_type": "code",
   "execution_count": null,
   "metadata": {},
   "outputs": [],
   "source": [
    "Création du jeu de test avec données brutes et données clean (spacy)\n",
    "Plafond 2107 entrées"
   ]
  },
  {
   "cell_type": "code",
   "execution_count": 70,
   "metadata": {},
   "outputs": [],
   "source": [
    "review = DF_neg['review']\n",
    "sentiment = DF_neg['sentiment']\n",
    "clean_review = DF_neg['clean review']\n",
    "\n",
    "#On fait un shuffle pour le positif avant de sélectionner que 2107 lignes\n",
    "import sklearn\n",
    "DF_pos= sklearn.utils.shuffle(DF_pos)\n",
    "\n",
    "review1 = DF_pos['review'].iloc[0:2107,]\n",
    "sentiment1 = DF_pos['sentiment'].iloc[0:2107,]\n",
    "clean_review1 = DF_pos['clean review'].iloc[0:2107,]\n",
    "\n",
    "test =pd.concat([review,review1], ignore_index=True)\n",
    "test2 = pd.concat([clean_review, clean_review1], ignore_index=True)\n",
    "test3 = pd.concat([sentiment, sentiment1], ignore_index=True)\n",
    "\n",
    "test_jeu_brut = pd.DataFrame(test)\n",
    "test_jeu_brut['sentiment'] = test3\n",
    "\n",
    "test_jeu_clean = pd.DataFrame(test2)\n",
    "test_jeu_clean['sentiment']=test3\n"
   ]
  },
  {
   "cell_type": "code",
   "execution_count": 80,
   "metadata": {},
   "outputs": [
    {
     "name": "stdout",
     "output_type": "stream",
     "text": [
      "                                              review sentiment\n",
      "0  I only purchased a second-year calendar for my...  negative\n",
      "1  This bear is absolutely adorable and I would g...  negative\n",
      "2  This book is boring. Nothing to stimulate my g...  negative\n",
      "3  The reason:Small sizeHard to apply on the wall...  negative\n",
      "4  Would not purchase again or recommend. The dec...  negative\n",
      " \n",
      "                                        clean review sentiment\n",
      "0  only purchase second really disappoint availab...  negative\n",
      "1  absolutely adorable give actually giggle growl...  negative\n",
      "2                        boring stimulate recommend   negative\n",
      "3  small apply most only know how waste when seco...  negative\n",
      "4  purchase again recommend thick almost plastic ...  negative\n",
      " \n",
      "<class 'pandas.core.frame.DataFrame'>\n",
      "RangeIndex: 2107 entries, 0 to 2106\n",
      "Data columns (total 2 columns):\n",
      "review       2107 non-null object\n",
      "sentiment    2107 non-null object\n",
      "dtypes: object(2)\n",
      "memory usage: 33.0+ KB\n",
      "None\n",
      " \n",
      "<class 'pandas.core.frame.DataFrame'>\n",
      "RangeIndex: 2107 entries, 0 to 2106\n",
      "Data columns (total 2 columns):\n",
      "clean review    2107 non-null object\n",
      "sentiment       2107 non-null object\n",
      "dtypes: object(2)\n",
      "memory usage: 33.0+ KB\n",
      "None\n"
     ]
    }
   ],
   "source": [
    "test_jeu_brut.reset_index(drop = True, inplace = True)\n",
    "test_jeu_clean.reset_index(drop = True, inplace = True)\n",
    "\n",
    "print(test_jeu_brut.head())\n",
    "print(\" \")\n",
    "print(test_jeu_clean.head())\n",
    "print(\" \")\n",
    "print(test_jeu_brut.info())\n",
    "print(\" \")\n",
    "print(test_jeu_clean.info())\n",
    "print(\" \")\n",
    "\n",
    "print(test_jeu_brut.groupby(['sentiment']).count())\n",
    "print(\" \")\n",
    "print(test_jeu_clean.groupby(['sentiment']).count())\n",
    "print(\" \")"
   ]
  },
  {
   "cell_type": "code",
   "execution_count": 115,
   "metadata": {},
   "outputs": [
    {
     "name": "stdout",
     "output_type": "stream",
     "text": [
      "                                              review  sentiment\n",
      "0  I only purchased a second-year calendar for my...      False\n",
      "1  This bear is absolutely adorable and I would g...      False\n",
      "2  This book is boring. Nothing to stimulate my g...      False\n",
      "3  The reason:Small sizeHard to apply on the wall...      False\n",
      "4  Would not purchase again or recommend. The dec...      False\n",
      " \n",
      "                                        clean review  sentiment\n",
      "0  only purchase second really disappoint availab...      False\n",
      "1  absolutely adorable give actually giggle growl...      False\n",
      "2                        boring stimulate recommend       False\n",
      "3  small apply most only know how waste when seco...      False\n",
      "4  purchase again recommend thick almost plastic ...      False\n"
     ]
    }
   ],
   "source": [
    "#Passage des données en catégorie\n",
    "test_jeu_brut['sentiment'] = test_jeu_brut['sentiment'].astype('category')\n",
    "test_jeu_clean['sentiment'] = test_jeu_clean['sentiment'].astype('category')\n",
    "\n",
    "\n",
    "test_jeu_brut['sentiment'] = test_jeu_brut['sentiment'] == \"positive\"\n",
    "test_jeu_clean['sentiment'] = test_jeu_clean['sentiment'] == \"positive\"\n",
    "\n",
    "\n",
    "print(test_jeu_brut.head())\n",
    "print(\" \")\n",
    "print(test_jeu_clean.head())\n",
    "\n",
    "\n",
    "\n",
    "\n"
   ]
  },
  {
   "cell_type": "code",
   "execution_count": 116,
   "metadata": {},
   "outputs": [
    {
     "name": "stdout",
     "output_type": "stream",
     "text": [
      "<class 'pandas.core.frame.DataFrame'>\n",
      "RangeIndex: 4214 entries, 0 to 4213\n",
      "Data columns (total 2 columns):\n",
      "review       4214 non-null object\n",
      "sentiment    4214 non-null bool\n",
      "dtypes: bool(1), object(1)\n",
      "memory usage: 37.1+ KB\n",
      " \n",
      "<class 'pandas.core.frame.DataFrame'>\n",
      "RangeIndex: 4214 entries, 0 to 4213\n",
      "Data columns (total 2 columns):\n",
      "clean review    4214 non-null object\n",
      "sentiment       4214 non-null bool\n",
      "dtypes: bool(1), object(1)\n",
      "memory usage: 37.1+ KB\n",
      " \n"
     ]
    }
   ],
   "source": [
    "test_jeu_brut.info()\n",
    "print(\" \")\n",
    "test_jeu_clean.info()\n",
    "print(\" \")\n"
   ]
  },
  {
   "cell_type": "code",
   "execution_count": null,
   "metadata": {},
   "outputs": [],
   "source": [
    "#Définition de la performance\n",
    "def show_metrics(y_true, y_score):\n",
    "    # True positive\n",
    "    tp = np.sum(y_true * y_score)\n",
    "    # False positive\n",
    "    fp = np.sum((y_true == 0) * y_score)\n",
    "    # True negative\n",
    "    tn = np.sum((y_true==0) * (y_score==0))\n",
    "    # False negative\n",
    "    fn = np.sum(y_true * (y_score==0))\n",
    "\n",
    "    # True positive rate (sensitivity or recall)\n",
    "    tpr = tp / (tp + fn)\n",
    "    # False positive rate (fall-out)\n",
    "    fpr = fp / (fp + tn)\n",
    "    # Precision\n",
    "    precision = tp / (tp + fp)\n",
    "    # True negatvie tate (specificity)\n",
    "    tnr = 1 - fpr\n",
    "    # F1 score\n",
    "    f1 = 2*tp / (2*tp + fp + fn)\n",
    "    # ROC-AUC for binary classification\n",
    "    auc = (tpr+tnr) / 2\n",
    "\n",
    "    print(\"True positive: \", tp)\n",
    "    print(\"False positive: \", fp)\n",
    "    print(\"True negative: \", tn)\n",
    "    print(\"False negative: \", fn)\n",
    "\n",
    "    print(\"True positive rate (recall): \", tpr)\n",
    "    print(\"False positive rate: \", fpr)\n",
    "    print(\"Precision: \", precision)\n",
    "    print(\"True negative rate: \", tnr)\n",
    "    print(\"F1: \", f1)\n",
    "    print(\"ROC-AUC: \", auc)\n"
   ]
  },
  {
   "cell_type": "code",
   "execution_count": null,
   "metadata": {},
   "outputs": [],
   "source": [
    "#Visualisation AUC-ROC\n",
    "def roc_auc_score(y_true, y_pred):\n",
    "    unique_vals = list(np.sort(np.unique(y_pred))) + [1]\n",
    "    area_under_curve = 0\n",
    "    fpr_points, tpr_points = [], []\n",
    "    for i, th in enumerate(unique_vals):\n",
    "        y_pred_th = np.zeros(len(y_pred))\n",
    "        y_pred_th[y_pred >= th] = 1.0\n",
    "        \n",
    "        tp = np.sum(y_test * y_pred_th)\n",
    "        fp = np.sum((y_test == 0) * y_pred_th)\n",
    "        tn = np.sum((y_test==0) * (y_pred_th==0))\n",
    "        fn = np.sum(y_test * (y_pred_th==0))\n",
    "        tpr = tp / (tp + fn)\n",
    "        fpr = fp / (fp + tn)\n",
    "        fpr_points.append(fpr)\n",
    "        tpr_points.append(tpr)\n",
    "        \n",
    "        if i > 0:\n",
    "            area_under_curve += (fpr_prev - fpr) * tpr\n",
    "        fpr_prev = fpr\n",
    "        \n",
    "    plt.figure(figsize=(5, 5), dpi=100)\n",
    "    plt.xlabel(\"False Positive Rate\")\n",
    "    plt.ylabel(\"True Positive Rate\")"
   ]
  },
  {
   "cell_type": "code",
   "execution_count": null,
   "metadata": {},
   "outputs": [],
   "source": [
    "# Import functions to compute accuracy and split data \n",
    "from sklearn.metrics import accuracy_score \n",
    "from sklearn.pipeline import Pipeline\n",
    "from sklearn.model_selection import train_test_split \n",
    " \n",
    "# Import models, including VotingClassifier meta-model \n",
    "from sklearn.linear_model import LogisticRegression \n",
    "from sklearn.ensemble import  RandomForestClassifier\n",
    "from sklearn.naive_bayes import MultinomialNB\n",
    "from sklearn.svm import SVC\n",
    "\n",
    "from sklearn.ensemble import VotingClassifier \n",
    "\n",
    "#test_jeu_clean.clean_review / test_jeu_clean.clean_review\n",
    "#test_jeu_brut.review / test_jeu_brut.sentiment\n",
    "\n",
    "X_train, X_test, y_train, y_test = train_test_split(test_jeu_brut.review, test_jeu_brut.sentiment, test_size=0.2,  random_state= SEED)\n",
    "\n",
    "# Initialise the count vectorizer with the English stop words\n",
    "count_vectorizer = CountVectorizer(stop_words='english')\n",
    "\n",
    "X_train = count_vectorizer.fit_transform(X_train)\n",
    "X_test = count_vectorizer.fit_transform(X_test)\n",
    "\n",
    "LR = LogisticRegression ()\n",
    "RFC = RandomForestClassifier()\n",
    "MNB = MultinomialNB()\n",
    "SVC =  SVC()\n",
    "\n",
    "CLASS = VotingClassifier(estimators=[('RFC',RFC), ('MNB',MNB), ('SVC',SVC)], voting='soft')\n",
    "pipeclf = Pipeline([('CLASS', CLASS)])\n",
    "                     \n",
    "pipeclf.fit(X_train, y_train)\n",
    "\n",
    "## Training Predictions\n",
    "proba = pipeclf.predict(X_test)\n",
    "\n"
   ]
  },
  {
   "cell_type": "raw",
   "metadata": {},
   "source": [
    "RFC = RandomForestClassifier()\n",
    "\n",
    "\n",
    "\n",
    "\n",
    "# Set seed for reproducibility \n",
    "SEED = 1\n",
    "\n",
    "nb = Pipeline([('vect', CountVectorizer()),\n",
    "               (\n",
    "               ('clf', MultinomialNB()),\n",
    "              ])\n",
    "nb.fit(X_train, y_train)\n",
    "\n",
    "\n",
    "\n",
    "\n",
    "# Instantiate individual classifiers \n",
    "lr = LogisticRegression(random_state=SEED)\n",
    "dt = DecisionTreeClassifier(random_state=SEED)  \n",
    "\n",
    "# Define a list called classifier that contains the tuples (classifier_name, classifier) \n",
    "classifiers = [('Logistic Regression', lr), ('Classification Tree', dt)]\n",
    "\n",
    "\n",
    "# Iterate over the defined list of tuples containing the classifiers \n",
    "for clf_name, clf in classifiers:     \n",
    "    #fit clf to the training set     \n",
    "    clf.fit(X_train, y_train) \n",
    " \n",
    "    # Predict the labels of the test set     \n",
    "    y_pred = clf.predict(X_test)\n",
    "    \n",
    "# Evaluate the accuracy of clf on the test set     \n",
    "print('{:s} : {:.3f}'.format(clf_name, accuracy_score(y_test, y_pred)))\n",
    "\n",
    "\n",
    "# Instantiate a VotingClassifier 'vc' \n",
    "vc = VotingClassifier(estimators=classifiers)  \n",
    " \n",
    "# Fit 'vc' to the traing set and predict test set labels \n",
    "vc.fit(X_train, y_train)    \n",
    "y_pred = vc.predict(X_test) \n",
    " \n",
    "# Evaluate the test-set accuracy of 'vc' \n",
    "print('Voting Classifier: {.3f}'.format(accuracy_score(y_test, y_pred)))\n"
   ]
  }
 ],
 "metadata": {
  "kernelspec": {
   "display_name": "Python 3",
   "language": "python",
   "name": "python3"
  },
  "language_info": {
   "codemirror_mode": {
    "name": "ipython",
    "version": 3
   },
   "file_extension": ".py",
   "mimetype": "text/x-python",
   "name": "python",
   "nbconvert_exporter": "python",
   "pygments_lexer": "ipython3",
   "version": "3.7.3"
  }
 },
 "nbformat": 4,
 "nbformat_minor": 2
}
